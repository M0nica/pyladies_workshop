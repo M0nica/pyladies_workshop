{
 "cells": [
  {
   "cell_type": "markdown",
   "metadata": {},
   "source": [
    "pip install seaborn===0.8.1"
   ]
  },
  {
   "cell_type": "markdown",
   "metadata": {},
   "source": [
    "### imports \n",
    "to complete this assignment we wil use Pandas for data analysis and Seaborn for visualization"
   ]
  },
  {
   "cell_type": "code",
   "execution_count": 4,
   "metadata": {
    "collapsed": true
   },
   "outputs": [],
   "source": [
    "import matplotlib.pyplot as plt\n",
    "import pandas as pd\n",
    "import numpy as np\n",
    "import seaborn as sns\n",
    "\n",
    "%matplotlib inline"
   ]
  },
  {
   "cell_type": "code",
   "execution_count": 6,
   "metadata": {
    "collapsed": false
   },
   "outputs": [
    {
     "data": {
      "text/plain": [
       "'0.8.1'"
      ]
     },
     "execution_count": 6,
     "metadata": {},
     "output_type": "execute_result"
    }
   ],
   "source": [
    "# let's check the version of seaborn\n",
    "sns.__version__"
   ]
  },
  {
   "cell_type": "markdown",
   "metadata": {},
   "source": [
    "loading the data"
   ]
  },
  {
   "cell_type": "code",
   "execution_count": 13,
   "metadata": {
    "collapsed": true
   },
   "outputs": [],
   "source": [
    "diagnosis = pd.read_csv('Patient_Diagnosis.csv')\n",
    "treatments = pd.read_csv('Patient_Treatment.csv')"
   ]
  },
  {
   "cell_type": "markdown",
   "metadata": {},
   "source": [
    "Let's take a peek at the data'"
   ]
  },
  {
   "cell_type": "code",
   "execution_count": 14,
   "metadata": {
    "collapsed": false
   },
   "outputs": [
    {
     "data": {
      "text/html": [
       "<div>\n",
       "<table border=\"1\" class=\"dataframe\">\n",
       "  <thead>\n",
       "    <tr style=\"text-align: right;\">\n",
       "      <th></th>\n",
       "      <th>Patient_ID</th>\n",
       "      <th>Diagnosis_Date</th>\n",
       "      <th>Diagnosis_Code</th>\n",
       "      <th>Diagnosis</th>\n",
       "    </tr>\n",
       "  </thead>\n",
       "  <tbody>\n",
       "    <tr>\n",
       "      <th>0</th>\n",
       "      <td>2038</td>\n",
       "      <td>1/21/10</td>\n",
       "      <td>174.9</td>\n",
       "      <td>Breast Cancer</td>\n",
       "    </tr>\n",
       "    <tr>\n",
       "      <th>1</th>\n",
       "      <td>2120</td>\n",
       "      <td>1/9/10</td>\n",
       "      <td>174.1</td>\n",
       "      <td>Breast Cancer</td>\n",
       "    </tr>\n",
       "    <tr>\n",
       "      <th>2</th>\n",
       "      <td>2175</td>\n",
       "      <td>2/17/10</td>\n",
       "      <td>174.7</td>\n",
       "      <td>Breast Cancer</td>\n",
       "    </tr>\n",
       "    <tr>\n",
       "      <th>3</th>\n",
       "      <td>2407</td>\n",
       "      <td>6/13/10</td>\n",
       "      <td>174.9</td>\n",
       "      <td>Breast Cancer</td>\n",
       "    </tr>\n",
       "    <tr>\n",
       "      <th>4</th>\n",
       "      <td>2425</td>\n",
       "      <td>12/15/10</td>\n",
       "      <td>174.9</td>\n",
       "      <td>Breast Cancer</td>\n",
       "    </tr>\n",
       "  </tbody>\n",
       "</table>\n",
       "</div>"
      ],
      "text/plain": [
       "   Patient_ID Diagnosis_Date  Diagnosis_Code      Diagnosis\n",
       "0        2038        1/21/10           174.9  Breast Cancer\n",
       "1        2120         1/9/10           174.1  Breast Cancer\n",
       "2        2175        2/17/10           174.7  Breast Cancer\n",
       "3        2407        6/13/10           174.9  Breast Cancer\n",
       "4        2425       12/15/10           174.9  Breast Cancer"
      ]
     },
     "execution_count": 14,
     "metadata": {},
     "output_type": "execute_result"
    }
   ],
   "source": [
    "diagnosis.head()"
   ]
  },
  {
   "cell_type": "markdown",
   "metadata": {},
   "source": [
    "treatments.head()"
   ]
  },
  {
   "cell_type": "markdown",
   "metadata": {},
   "source": [
    "first thing to do is t clean the data and find out if the data has an any noise/strange data/outliers that don't make sense'"
   ]
  },
  {
   "cell_type": "code",
   "execution_count": 16,
   "metadata": {
    "collapsed": false
   },
   "outputs": [
    {
     "data": {
      "text/plain": [
       "Patient_ID         int64\n",
       "Treatment_Date    object\n",
       "Drug_Code         object\n",
       "dtype: object"
      ]
     },
     "execution_count": 16,
     "metadata": {},
     "output_type": "execute_result"
    }
   ],
   "source": [
    "treatments.dtypes"
   ]
  },
  {
   "cell_type": "code",
   "execution_count": 17,
   "metadata": {
    "collapsed": false
   },
   "outputs": [
    {
     "data": {
      "text/plain": [
       "Patient_ID          int64\n",
       "Diagnosis_Date     object\n",
       "Diagnosis_Code    float64\n",
       "Diagnosis          object\n",
       "dtype: object"
      ]
     },
     "execution_count": 17,
     "metadata": {},
     "output_type": "execute_result"
    }
   ],
   "source": [
    "diagnosis.dtypes"
   ]
  },
  {
   "cell_type": "markdown",
   "metadata": {},
   "source": [
    "we should convert the dates from objects/strings into to Datetime objects"
   ]
  },
  {
   "cell_type": "code",
   "execution_count": 30,
   "metadata": {
    "collapsed": false
   },
   "outputs": [],
   "source": [
    "diagnosis.Diagnosis_Date = pd.to_datetime(diagnosis.Diagnosis_Date)"
   ]
  },
  {
   "cell_type": "code",
   "execution_count": 31,
   "metadata": {
    "collapsed": true
   },
   "outputs": [],
   "source": [
    "treatments.Treatment_Date = pd.to_datetime(treatments.Treatment_Date)"
   ]
  },
  {
   "cell_type": "code",
   "execution_count": 32,
   "metadata": {
    "collapsed": false
   },
   "outputs": [
    {
     "data": {
      "text/plain": [
       "Patient_ID                 int64\n",
       "Treatment_Date    datetime64[ns]\n",
       "Drug_Code                 object\n",
       "dtype: object"
      ]
     },
     "execution_count": 32,
     "metadata": {},
     "output_type": "execute_result"
    }
   ],
   "source": [
    "treatments.dtypes"
   ]
  },
  {
   "cell_type": "code",
   "execution_count": 29,
   "metadata": {
    "collapsed": false
   },
   "outputs": [
    {
     "data": {
      "text/plain": [
       "Patient_ID                 int64\n",
       "Diagnosis_Date    datetime64[ns]\n",
       "Diagnosis_Code           float64\n",
       "Diagnosis                 object\n",
       "dtype: object"
      ]
     },
     "execution_count": 29,
     "metadata": {},
     "output_type": "execute_result"
    }
   ],
   "source": [
    "diagnosis.dtypes"
   ]
  },
  {
   "cell_type": "code",
   "execution_count": 34,
   "metadata": {
    "collapsed": false
   },
   "outputs": [],
   "source": [
    "# pd.infer_objects() - available in later version of pandas"
   ]
  },
  {
   "cell_type": "markdown",
   "metadata": {},
   "source": [
    "Now we are ready to start answering questions"
   ]
  },
  {
   "cell_type": "markdown",
   "metadata": {},
   "source": [
    "Question 1: Cancer type breakdown\n",
    "    \n",
    "\"First the curious is to know which diseases they are treating patients. How many patients does the clinic have for each cancer type?\"\n",
    "\n",
    "Need to make sure the number of diagnoses matches the number of patients, if not then a patient can have multiple diagnosis"
   ]
  },
  {
   "cell_type": "code",
   "execution_count": 43,
   "metadata": {
    "collapsed": false
   },
   "outputs": [
    {
     "name": "stdout",
     "output_type": "stream",
     "text": [
      "37\n",
      "47 diagnoses\n"
     ]
    }
   ],
   "source": [
    "# number of patients\n",
    "print (len(diagnosis.Patient_ID.unique()))\n",
    "print(len(diagnosis.Patient_ID), 'diagnoses') # there are ten more diagnosis than patients"
   ]
  },
  {
   "cell_type": "code",
   "execution_count": 44,
   "metadata": {
    "collapsed": false
   },
   "outputs": [
    {
     "data": {
      "text/plain": [
       "0     False\n",
       "1     False\n",
       "2     False\n",
       "3     False\n",
       "4     False\n",
       "5     False\n",
       "6     False\n",
       "7     False\n",
       "8     False\n",
       "9     False\n",
       "10    False\n",
       "11     True\n",
       "12     True\n",
       "13     True\n",
       "14    False\n",
       "15     True\n",
       "16     True\n",
       "17     True\n",
       "18    False\n",
       "19    False\n",
       "20    False\n",
       "21    False\n",
       "22    False\n",
       "23    False\n",
       "24    False\n",
       "25     True\n",
       "26     True\n",
       "27     True\n",
       "28     True\n",
       "29    False\n",
       "30    False\n",
       "31    False\n",
       "32    False\n",
       "33    False\n",
       "34    False\n",
       "35    False\n",
       "36    False\n",
       "37    False\n",
       "38     True\n",
       "39     True\n",
       "40     True\n",
       "41     True\n",
       "42     True\n",
       "43     True\n",
       "44     True\n",
       "45     True\n",
       "46     True\n",
       "dtype: bool"
      ]
     },
     "execution_count": 44,
     "metadata": {},
     "output_type": "execute_result"
    }
   ],
   "source": [
    "diagnosis.duplicated('Patient_ID', keep=False) # outputs True or False based on whether or not it is a duplicate or not -- then only keeps those that are False for duplicates"
   ]
  },
  {
   "cell_type": "code",
   "execution_count": 48,
   "metadata": {
    "collapsed": false
   },
   "outputs": [
    {
     "data": {
      "text/html": [
       "<div>\n",
       "<table border=\"1\" class=\"dataframe\">\n",
       "  <thead>\n",
       "    <tr style=\"text-align: right;\">\n",
       "      <th></th>\n",
       "      <th>Patient_ID</th>\n",
       "      <th>Diagnosis_Date</th>\n",
       "      <th>Diagnosis_Code</th>\n",
       "      <th>Diagnosis</th>\n",
       "    </tr>\n",
       "  </thead>\n",
       "  <tbody>\n",
       "    <tr>\n",
       "      <th>11</th>\n",
       "      <td>3449</td>\n",
       "      <td>2011-09-09</td>\n",
       "      <td>153.5</td>\n",
       "      <td>Colon Cancer</td>\n",
       "    </tr>\n",
       "    <tr>\n",
       "      <th>42</th>\n",
       "      <td>3449</td>\n",
       "      <td>2011-09-09</td>\n",
       "      <td>153.4</td>\n",
       "      <td>Colon Cancer</td>\n",
       "    </tr>\n",
       "    <tr>\n",
       "      <th>13</th>\n",
       "      <td>3757</td>\n",
       "      <td>2011-10-11</td>\n",
       "      <td>174.1</td>\n",
       "      <td>Breast Cancer</td>\n",
       "    </tr>\n",
       "    <tr>\n",
       "      <th>12</th>\n",
       "      <td>3757</td>\n",
       "      <td>2011-10-17</td>\n",
       "      <td>153.4</td>\n",
       "      <td>Colon Cancer</td>\n",
       "    </tr>\n",
       "    <tr>\n",
       "      <th>43</th>\n",
       "      <td>3757</td>\n",
       "      <td>2011-10-17</td>\n",
       "      <td>153.5</td>\n",
       "      <td>Colon Cancer</td>\n",
       "    </tr>\n",
       "    <tr>\n",
       "      <th>15</th>\n",
       "      <td>4256</td>\n",
       "      <td>2011-11-07</td>\n",
       "      <td>174.5</td>\n",
       "      <td>Breast Cancer</td>\n",
       "    </tr>\n",
       "    <tr>\n",
       "      <th>44</th>\n",
       "      <td>4256</td>\n",
       "      <td>2011-11-07</td>\n",
       "      <td>174.8</td>\n",
       "      <td>Breast Cancer</td>\n",
       "    </tr>\n",
       "    <tr>\n",
       "      <th>16</th>\n",
       "      <td>4354</td>\n",
       "      <td>2012-02-04</td>\n",
       "      <td>174.8</td>\n",
       "      <td>Breast Cancer</td>\n",
       "    </tr>\n",
       "    <tr>\n",
       "      <th>45</th>\n",
       "      <td>4354</td>\n",
       "      <td>2012-02-04</td>\n",
       "      <td>174.5</td>\n",
       "      <td>Breast Cancer</td>\n",
       "    </tr>\n",
       "    <tr>\n",
       "      <th>17</th>\n",
       "      <td>4374</td>\n",
       "      <td>2012-03-20</td>\n",
       "      <td>174.5</td>\n",
       "      <td>Breast Cancer</td>\n",
       "    </tr>\n",
       "    <tr>\n",
       "      <th>46</th>\n",
       "      <td>4374</td>\n",
       "      <td>2012-03-20</td>\n",
       "      <td>174.8</td>\n",
       "      <td>Breast Cancer</td>\n",
       "    </tr>\n",
       "    <tr>\n",
       "      <th>25</th>\n",
       "      <td>6877</td>\n",
       "      <td>2012-11-26</td>\n",
       "      <td>153.4</td>\n",
       "      <td>Colon Cancer</td>\n",
       "    </tr>\n",
       "    <tr>\n",
       "      <th>38</th>\n",
       "      <td>6877</td>\n",
       "      <td>2012-12-09</td>\n",
       "      <td>174.3</td>\n",
       "      <td>Breast Cancer</td>\n",
       "    </tr>\n",
       "    <tr>\n",
       "      <th>26</th>\n",
       "      <td>6889</td>\n",
       "      <td>2012-11-14</td>\n",
       "      <td>153.7</td>\n",
       "      <td>Colon Cancer</td>\n",
       "    </tr>\n",
       "    <tr>\n",
       "      <th>39</th>\n",
       "      <td>6889</td>\n",
       "      <td>2012-11-17</td>\n",
       "      <td>174.7</td>\n",
       "      <td>Breast Cancer</td>\n",
       "    </tr>\n",
       "    <tr>\n",
       "      <th>27</th>\n",
       "      <td>6922</td>\n",
       "      <td>2012-11-15</td>\n",
       "      <td>153.6</td>\n",
       "      <td>Colon Cancer</td>\n",
       "    </tr>\n",
       "    <tr>\n",
       "      <th>40</th>\n",
       "      <td>6922</td>\n",
       "      <td>2012-11-20</td>\n",
       "      <td>174.9</td>\n",
       "      <td>Breast Cancer</td>\n",
       "    </tr>\n",
       "    <tr>\n",
       "      <th>28</th>\n",
       "      <td>7230</td>\n",
       "      <td>2013-01-02</td>\n",
       "      <td>153.8</td>\n",
       "      <td>Colon Cancer</td>\n",
       "    </tr>\n",
       "    <tr>\n",
       "      <th>41</th>\n",
       "      <td>7230</td>\n",
       "      <td>2013-01-06</td>\n",
       "      <td>174.9</td>\n",
       "      <td>Breast Cancer</td>\n",
       "    </tr>\n",
       "  </tbody>\n",
       "</table>\n",
       "</div>"
      ],
      "text/plain": [
       "    Patient_ID Diagnosis_Date  Diagnosis_Code      Diagnosis\n",
       "11        3449     2011-09-09           153.5   Colon Cancer\n",
       "42        3449     2011-09-09           153.4   Colon Cancer\n",
       "13        3757     2011-10-11           174.1  Breast Cancer\n",
       "12        3757     2011-10-17           153.4   Colon Cancer\n",
       "43        3757     2011-10-17           153.5   Colon Cancer\n",
       "15        4256     2011-11-07           174.5  Breast Cancer\n",
       "44        4256     2011-11-07           174.8  Breast Cancer\n",
       "16        4354     2012-02-04           174.8  Breast Cancer\n",
       "45        4354     2012-02-04           174.5  Breast Cancer\n",
       "17        4374     2012-03-20           174.5  Breast Cancer\n",
       "46        4374     2012-03-20           174.8  Breast Cancer\n",
       "25        6877     2012-11-26           153.4   Colon Cancer\n",
       "38        6877     2012-12-09           174.3  Breast Cancer\n",
       "26        6889     2012-11-14           153.7   Colon Cancer\n",
       "39        6889     2012-11-17           174.7  Breast Cancer\n",
       "27        6922     2012-11-15           153.6   Colon Cancer\n",
       "40        6922     2012-11-20           174.9  Breast Cancer\n",
       "28        7230     2013-01-02           153.8   Colon Cancer\n",
       "41        7230     2013-01-06           174.9  Breast Cancer"
      ]
     },
     "execution_count": 48,
     "metadata": {},
     "output_type": "execute_result"
    }
   ],
   "source": [
    "diagnosis[diagnosis.duplicated('Patient_ID', keep=False)].sort_values(['Patient_ID','Diagnosis_Date']) # creates new dataframe to get red of values with value of false, dot matrix multiplication"
   ]
  },
  {
   "cell_type": "code",
   "execution_count": 54,
   "metadata": {
    "collapsed": false
   },
   "outputs": [],
   "source": [
    "# make a copy of the diagnosis dataframe\n",
    "diagnosis_copy = diagnosis.copy()\n",
    "\n",
    "# convert diagnosis codes to string and join them by commas for the same patient, we don't have to worry about the 'Diagnosis' field since it's already a string\n",
    "\n",
    "diagnosis_copy.Diagnosis_Code = diagnosis.Diagnosis_Code.apply(str) #override column with string cversions of the data\n",
    "unique_codes = diagnosis_copy.groupby(diagnosis_copy.Patient_ID).agg(lambda x: ','.join(x.values)) # joining values with a comma between columns; grouped by the patient ID\n",
    "\n",
    "# remove duplicates from 'Diagnosis column --\n",
    "\n",
    "unique_codes.Diagnosis = unique_codes.Diagnosis.str.split(',').\\\n",
    "apply(lambda x: list(set(x))).\\\n",
    "apply(lambda x: ','.join(x))\n",
    "\n",
    "\n",
    "# addd colon and breast indicator vaariables boolean\n",
    "unique_codes['breast'] = unique_codes['Diagnosis'].str.contains('Breast')\n",
    "unique_codes['colon'] = unique_codes['Diagnosis'].str.contains('Colon')\n"
   ]
  },
  {
   "cell_type": "code",
   "execution_count": 56,
   "metadata": {
    "collapsed": false
   },
   "outputs": [
    {
     "data": {
      "text/html": [
       "<div>\n",
       "<table border=\"1\" class=\"dataframe\">\n",
       "  <thead>\n",
       "    <tr style=\"text-align: right;\">\n",
       "      <th></th>\n",
       "      <th>Diagnosis_Code</th>\n",
       "      <th>Diagnosis</th>\n",
       "      <th>breast</th>\n",
       "      <th>colon</th>\n",
       "    </tr>\n",
       "    <tr>\n",
       "      <th>Patient_ID</th>\n",
       "      <th></th>\n",
       "      <th></th>\n",
       "      <th></th>\n",
       "      <th></th>\n",
       "    </tr>\n",
       "  </thead>\n",
       "  <tbody>\n",
       "    <tr>\n",
       "      <th>2038</th>\n",
       "      <td>174.9</td>\n",
       "      <td>Breast Cancer</td>\n",
       "      <td>True</td>\n",
       "      <td>False</td>\n",
       "    </tr>\n",
       "    <tr>\n",
       "      <th>2120</th>\n",
       "      <td>174.1</td>\n",
       "      <td>Breast Cancer</td>\n",
       "      <td>True</td>\n",
       "      <td>False</td>\n",
       "    </tr>\n",
       "    <tr>\n",
       "      <th>2175</th>\n",
       "      <td>174.7</td>\n",
       "      <td>Breast Cancer</td>\n",
       "      <td>True</td>\n",
       "      <td>False</td>\n",
       "    </tr>\n",
       "    <tr>\n",
       "      <th>2407</th>\n",
       "      <td>174.9</td>\n",
       "      <td>Breast Cancer</td>\n",
       "      <td>True</td>\n",
       "      <td>False</td>\n",
       "    </tr>\n",
       "    <tr>\n",
       "      <th>2425</th>\n",
       "      <td>174.9</td>\n",
       "      <td>Breast Cancer</td>\n",
       "      <td>True</td>\n",
       "      <td>False</td>\n",
       "    </tr>\n",
       "  </tbody>\n",
       "</table>\n",
       "</div>"
      ],
      "text/plain": [
       "           Diagnosis_Code      Diagnosis breast  colon\n",
       "Patient_ID                                            \n",
       "2038                174.9  Breast Cancer   True  False\n",
       "2120                174.1  Breast Cancer   True  False\n",
       "2175                174.7  Breast Cancer   True  False\n",
       "2407                174.9  Breast Cancer   True  False\n",
       "2425                174.9  Breast Cancer   True  False"
      ]
     },
     "execution_count": 56,
     "metadata": {},
     "output_type": "execute_result"
    }
   ],
   "source": [
    "unique_codes.head()"
   ]
  },
  {
   "cell_type": "code",
   "execution_count": 57,
   "metadata": {
    "collapsed": false
   },
   "outputs": [
    {
     "data": {
      "image/png": "[encoded data removed]",
      "text/plain": [
       "<matplotlib.figure.Figure at 0x10accbd68>"
      ]
     },
     "metadata": {},
     "output_type": "display_data"
    }
   ],
   "source": [
    "# plot// countplot shows the count of obserations in each categorical bin\n",
    "\n",
    "sns.countplot(y=unique_codes.Diagnosis)\n",
    "# _ means that it applies to the entire canvas/cartessian plane\n",
    "_=plt.title('Number of patients by cancer type')\n",
    "_=plt.xlabel('Number of patients')\n",
    "_=plt.ylabel('Cancer type')"
   ]
  },
  {
   "cell_type": "markdown",
   "metadata": {},
   "source": [
    "# How long after diagnosis do patients start treatment?\n",
    "\n",
    "\"The clinic wants to know how long it takes for patients to start therapy after being diagnosed, which they consider to be helpful in understanding the quality of care for the patient. How long after diagnosed do patients start treatment?\""
   ]
  },
  {
   "cell_type": "code",
   "execution_count": 59,
   "metadata": {
    "collapsed": true
   },
   "outputs": [],
   "source": [
    "# sort treatments by patient ID and Treatment Data\n",
    "\n",
    "treatments_sorted = treatments.sort_values(['Patient_ID', 'Treatment_Date'])\n",
    "\n",
    "# group by Patient ID, select first date and reset index\n",
    "\n",
    "first_treatment = treatments_sorted.groupby('Patient_ID').first().reset_index()"
   ]
  },
  {
   "cell_type": "markdown",
   "metadata": {},
   "source": [
    "Why reset the index?\n",
    "- the inde contains data that you want to treat as a column\n",
    "- the index got messy due to sorting, selecting or joining."
   ]
  },
  {
   "cell_type": "code",
   "execution_count": 61,
   "metadata": {
    "collapsed": false
   },
   "outputs": [
    {
     "data": {
      "text/html": [
       "<div>\n",
       "<table border=\"1\" class=\"dataframe\">\n",
       "  <thead>\n",
       "    <tr style=\"text-align: right;\">\n",
       "      <th></th>\n",
       "      <th>Patient_ID</th>\n",
       "      <th>Treatment_Date</th>\n",
       "      <th>Drug_Code</th>\n",
       "    </tr>\n",
       "  </thead>\n",
       "  <tbody>\n",
       "    <tr>\n",
       "      <th>0</th>\n",
       "      <td>2038</td>\n",
       "      <td>2010-01-24</td>\n",
       "      <td>A</td>\n",
       "    </tr>\n",
       "    <tr>\n",
       "      <th>1</th>\n",
       "      <td>2120</td>\n",
       "      <td>2010-01-24</td>\n",
       "      <td>A</td>\n",
       "    </tr>\n",
       "    <tr>\n",
       "      <th>2</th>\n",
       "      <td>2175</td>\n",
       "      <td>2010-02-21</td>\n",
       "      <td>A</td>\n",
       "    </tr>\n",
       "    <tr>\n",
       "      <th>3</th>\n",
       "      <td>2407</td>\n",
       "      <td>2010-06-19</td>\n",
       "      <td>A</td>\n",
       "    </tr>\n",
       "    <tr>\n",
       "      <th>4</th>\n",
       "      <td>2425</td>\n",
       "      <td>2010-12-19</td>\n",
       "      <td>A</td>\n",
       "    </tr>\n",
       "  </tbody>\n",
       "</table>\n",
       "</div>"
      ],
      "text/plain": [
       "   Patient_ID Treatment_Date Drug_Code\n",
       "0        2038     2010-01-24         A\n",
       "1        2120     2010-01-24         A\n",
       "2        2175     2010-02-21         A\n",
       "3        2407     2010-06-19         A\n",
       "4        2425     2010-12-19         A"
      ]
     },
     "execution_count": 61,
     "metadata": {},
     "output_type": "execute_result"
    }
   ],
   "source": [
    "# view dataframe\n",
    "first_treatment.head()"
   ]
  },
  {
   "cell_type": "markdown",
   "metadata": {},
   "source": [
    "similary for diagnoses, we will keep only the first diagnosis dte per patient"
   ]
  },
  {
   "cell_type": "code",
   "execution_count": 63,
   "metadata": {
    "collapsed": false
   },
   "outputs": [
    {
     "data": {
      "text/html": [
       "<div>\n",
       "<table border=\"1\" class=\"dataframe\">\n",
       "  <thead>\n",
       "    <tr style=\"text-align: right;\">\n",
       "      <th></th>\n",
       "      <th>Patient_ID</th>\n",
       "      <th>Diagnosis_Date</th>\n",
       "      <th>Diagnosis_Code</th>\n",
       "      <th>Diagnosis</th>\n",
       "    </tr>\n",
       "  </thead>\n",
       "  <tbody>\n",
       "    <tr>\n",
       "      <th>0</th>\n",
       "      <td>2038</td>\n",
       "      <td>2010-01-21</td>\n",
       "      <td>174.9</td>\n",
       "      <td>Breast Cancer</td>\n",
       "    </tr>\n",
       "    <tr>\n",
       "      <th>1</th>\n",
       "      <td>2120</td>\n",
       "      <td>2010-01-09</td>\n",
       "      <td>174.1</td>\n",
       "      <td>Breast Cancer</td>\n",
       "    </tr>\n",
       "    <tr>\n",
       "      <th>2</th>\n",
       "      <td>2175</td>\n",
       "      <td>2010-02-17</td>\n",
       "      <td>174.7</td>\n",
       "      <td>Breast Cancer</td>\n",
       "    </tr>\n",
       "    <tr>\n",
       "      <th>3</th>\n",
       "      <td>2407</td>\n",
       "      <td>2010-06-13</td>\n",
       "      <td>174.9</td>\n",
       "      <td>Breast Cancer</td>\n",
       "    </tr>\n",
       "    <tr>\n",
       "      <th>4</th>\n",
       "      <td>2425</td>\n",
       "      <td>2010-12-15</td>\n",
       "      <td>174.9</td>\n",
       "      <td>Breast Cancer</td>\n",
       "    </tr>\n",
       "  </tbody>\n",
       "</table>\n",
       "</div>"
      ],
      "text/plain": [
       "   Patient_ID Diagnosis_Date  Diagnosis_Code      Diagnosis\n",
       "0        2038     2010-01-21           174.9  Breast Cancer\n",
       "1        2120     2010-01-09           174.1  Breast Cancer\n",
       "2        2175     2010-02-17           174.7  Breast Cancer\n",
       "3        2407     2010-06-13           174.9  Breast Cancer\n",
       "4        2425     2010-12-15           174.9  Breast Cancer"
      ]
     },
     "execution_count": 63,
     "metadata": {},
     "output_type": "execute_result"
    }
   ],
   "source": [
    "# sort diagnosis by patient ID and Treatment Data\n",
    "\n",
    "diagnosis_sorted = diagnosis.sort_values(['Patient_ID', 'Diagnosis_Date'])\n",
    "\n",
    "# group by Patient ID, select first date and reset index\n",
    "\n",
    "first_diagnosis = diagnosis_sorted.groupby('Patient_ID').first().reset_index()\n",
    "\n",
    "# view dataframe\n",
    "\n",
    "first_diagnosis.head()"
   ]
  },
  {
   "cell_type": "markdown",
   "metadata": {},
   "source": [
    "we can now merge  two data frames and look at the difference between diagnosis and treatment date - we will then visualize the distrubution with an overlay of boxplot and swarm plot, as well as describe some basic statistics of the time difference"
   ]
  },
  {
   "cell_type": "code",
   "execution_count": 68,
   "metadata": {
    "collapsed": false
   },
   "outputs": [],
   "source": [
    "# merge data frame\n",
    "\n",
    "merged_dfs = first_treatment.merge(first_diagnosis, on='Patient_ID')\n",
    "\n",
    "# calculate the time difference between diagnosis date and treatment date\n",
    "\n",
    "merged_dfs['time_lapse'] = merged_dfs['Treatment_Date'].subtract(merged_dfs['Diagnosis_Date'])"
   ]
  },
  {
   "cell_type": "code",
   "execution_count": 71,
   "metadata": {
    "collapsed": false
   },
   "outputs": [
    {
     "name": "stdout",
     "output_type": "stream",
     "text": [
      "count                        37\n",
      "mean     5 days 11:01:37.297297\n",
      "std      2 days 05:32:40.655400\n",
      "min             3 days 00:00:00\n",
      "25%             4 days 00:00:00\n",
      "50%             5 days 00:00:00\n",
      "75%             6 days 00:00:00\n",
      "max            15 days 00:00:00\n",
      "Name: time_lapse, dtype: object\n"
     ]
    },
    {
     "data": {
      "image/png": "[encoded data removed]",
      "text/plain": [
       "<matplotlib.figure.Figure at 0x10aeade80>"
      ]
     },
     "metadata": {},
     "output_type": "display_data"
    }
   ],
   "source": [
    "# plot -- seaborn will remove outliers, the default color for visualizations is blue\n",
    "ax = sns.boxplot(y=merged_dfs['time_lapse'].dt.days)\n",
    "ax = sns.swarmplot(y=merged_dfs['time_lapse'].dt.days, color='firebrick') # centered scatterp lot with one variable, y axis\n",
    "plt.ylabel('# of days')\n",
    "plt.title('Number of days from diagnosis to treatment')\n",
    "\n",
    "# describe\n",
    "print(merged_dfs['time_lapse'].describe())"
   ]
  },
  {
   "cell_type": "markdown",
   "metadata": {},
   "source": [
    "Box plots help us visualize the distribution of the dataset by showing the four quatiles of the data's distribution, exclusiing outliers... Outliers are determiend by the interquartlie range -- however you can set what the function should be to increase or descrease the definition of outliers."
   ]
  },
  {
   "cell_type": "code",
   "execution_count": null,
   "metadata": {
    "collapsed": true
   },
   "outputs": [],
   "source": [
    "# question 3 - duration of treatments\n",
    "\n",
    "# select first and last treatments by patient and drug  code\n",
    "\n",
    "# join the first anad last treatment into one column\n",
    "\n",
    "\n",
    "# calcualte the time elapse between first and last "
   ]
  }
 ],
 "metadata": {
  "kernelspec": {
   "display_name": "Python 3",
   "language": "python",
   "name": "python3"
  },
  "language_info": {
   "codemirror_mode": {
    "name": "ipython",
    "version": 3
   },
   "file_extension": ".py",
   "mimetype": "text/x-python",
   "name": "python",
   "nbconvert_exporter": "python",
   "pygments_lexer": "ipython3",
   "version": "3.5.2"
  }
 },
 "nbformat": 4,
 "nbformat_minor": 2
}
