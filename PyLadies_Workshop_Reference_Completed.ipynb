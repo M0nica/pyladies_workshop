{
 "cells": [
  {
   "cell_type": "markdown",
   "metadata": {},
   "source": [
    "# as you walk in, please run on your terminal:\n",
    "# pip install seaborn==0.8.1\n",
    "# https://goo.gl/xLRiEL"
   ]
  },
  {
   "cell_type": "markdown",
   "metadata": {},
   "source": [
    "# Imports\n",
    "\n",
    "To complete this assignment we will use the Pandas data analysis library, with the Seaborn library for visualization."
   ]
  },
  {
   "cell_type": "code",
   "execution_count": 1,
   "metadata": {
    "collapsed": true
   },
   "outputs": [],
   "source": [
    "import matplotlib.pyplot as plt\n",
    "import pandas as pd\n",
    "import numpy as np\n",
    "import seaborn as sns\n",
    "\n",
    "%matplotlib inline"
   ]
  },
  {
   "cell_type": "code",
   "execution_count": 3,
   "metadata": {},
   "outputs": [
    {
     "data": {
      "text/plain": [
       "'0.8.1'"
      ]
     },
     "execution_count": 3,
     "metadata": {},
     "output_type": "execute_result"
    }
   ],
   "source": [
    "# lets check that we have the latest version of seaborn so we can use the latest, fanciest tools \n",
    "sns.__version__"
   ]
  },
  {
   "cell_type": "markdown",
   "metadata": {},
   "source": [
    "# Loading the data\n",
    "\n",
    "Before we can start answering questions about the data we need to do a little bit of exploratory analysis. We start by loading the data into memory. \n",
    "Pandas comes with a built-in `read_csv` function that we can use to read CSV files."
   ]
  },
  {
   "cell_type": "code",
   "execution_count": 4,
   "metadata": {
    "collapsed": true
   },
   "outputs": [],
   "source": [
    "diagnosis = pd.read_csv('./Patient_Diagnosis.csv')\n",
    "treatments = pd.read_csv('./Patient_Treatment.csv')"
   ]
  },
  {
   "cell_type": "markdown",
   "metadata": {},
   "source": [
    "We can now take a look at the data to familiarize ourselves with the format and data types."
   ]
  },
  {
   "cell_type": "code",
   "execution_count": 5,
   "metadata": {},
   "outputs": [
    {
     "data": {
      "text/html": [
       "<div>\n",
       "<style>\n",
       "    .dataframe thead tr:only-child th {\n",
       "        text-align: right;\n",
       "    }\n",
       "\n",
       "    .dataframe thead th {\n",
       "        text-align: left;\n",
       "    }\n",
       "\n",
       "    .dataframe tbody tr th {\n",
       "        vertical-align: top;\n",
       "    }\n",
       "</style>\n",
       "<table border=\"1\" class=\"dataframe\">\n",
       "  <thead>\n",
       "    <tr style=\"text-align: right;\">\n",
       "      <th></th>\n",
       "      <th>Patient_ID</th>\n",
       "      <th>Diagnosis_Date</th>\n",
       "      <th>Diagnosis_Code</th>\n",
       "      <th>Diagnosis</th>\n",
       "    </tr>\n",
       "  </thead>\n",
       "  <tbody>\n",
       "    <tr>\n",
       "      <th>0</th>\n",
       "      <td>2038</td>\n",
       "      <td>1/21/10</td>\n",
       "      <td>174.9</td>\n",
       "      <td>Breast Cancer</td>\n",
       "    </tr>\n",
       "    <tr>\n",
       "      <th>1</th>\n",
       "      <td>2120</td>\n",
       "      <td>1/9/10</td>\n",
       "      <td>174.1</td>\n",
       "      <td>Breast Cancer</td>\n",
       "    </tr>\n",
       "    <tr>\n",
       "      <th>2</th>\n",
       "      <td>2175</td>\n",
       "      <td>2/17/10</td>\n",
       "      <td>174.7</td>\n",
       "      <td>Breast Cancer</td>\n",
       "    </tr>\n",
       "    <tr>\n",
       "      <th>3</th>\n",
       "      <td>2407</td>\n",
       "      <td>6/13/10</td>\n",
       "      <td>174.9</td>\n",
       "      <td>Breast Cancer</td>\n",
       "    </tr>\n",
       "    <tr>\n",
       "      <th>4</th>\n",
       "      <td>2425</td>\n",
       "      <td>12/15/10</td>\n",
       "      <td>174.9</td>\n",
       "      <td>Breast Cancer</td>\n",
       "    </tr>\n",
       "  </tbody>\n",
       "</table>\n",
       "</div>"
      ],
      "text/plain": [
       "   Patient_ID Diagnosis_Date  Diagnosis_Code      Diagnosis\n",
       "0        2038        1/21/10           174.9  Breast Cancer\n",
       "1        2120         1/9/10           174.1  Breast Cancer\n",
       "2        2175        2/17/10           174.7  Breast Cancer\n",
       "3        2407        6/13/10           174.9  Breast Cancer\n",
       "4        2425       12/15/10           174.9  Breast Cancer"
      ]
     },
     "execution_count": 5,
     "metadata": {},
     "output_type": "execute_result"
    }
   ],
   "source": [
    "diagnosis.head()"
   ]
  },
  {
   "cell_type": "code",
   "execution_count": 6,
   "metadata": {},
   "outputs": [
    {
     "data": {
      "text/html": [
       "<div>\n",
       "<style>\n",
       "    .dataframe thead tr:only-child th {\n",
       "        text-align: right;\n",
       "    }\n",
       "\n",
       "    .dataframe thead th {\n",
       "        text-align: left;\n",
       "    }\n",
       "\n",
       "    .dataframe tbody tr th {\n",
       "        vertical-align: top;\n",
       "    }\n",
       "</style>\n",
       "<table border=\"1\" class=\"dataframe\">\n",
       "  <thead>\n",
       "    <tr style=\"text-align: right;\">\n",
       "      <th></th>\n",
       "      <th>Patient_ID</th>\n",
       "      <th>Treatment_Date</th>\n",
       "      <th>Drug_Code</th>\n",
       "    </tr>\n",
       "  </thead>\n",
       "  <tbody>\n",
       "    <tr>\n",
       "      <th>0</th>\n",
       "      <td>2038</td>\n",
       "      <td>1/24/10</td>\n",
       "      <td>A</td>\n",
       "    </tr>\n",
       "    <tr>\n",
       "      <th>1</th>\n",
       "      <td>2120</td>\n",
       "      <td>1/24/10</td>\n",
       "      <td>A</td>\n",
       "    </tr>\n",
       "    <tr>\n",
       "      <th>2</th>\n",
       "      <td>2120</td>\n",
       "      <td>1/24/10</td>\n",
       "      <td>B</td>\n",
       "    </tr>\n",
       "    <tr>\n",
       "      <th>3</th>\n",
       "      <td>2120</td>\n",
       "      <td>1/26/10</td>\n",
       "      <td>A</td>\n",
       "    </tr>\n",
       "    <tr>\n",
       "      <th>4</th>\n",
       "      <td>2120</td>\n",
       "      <td>1/26/10</td>\n",
       "      <td>B</td>\n",
       "    </tr>\n",
       "  </tbody>\n",
       "</table>\n",
       "</div>"
      ],
      "text/plain": [
       "   Patient_ID Treatment_Date Drug_Code\n",
       "0        2038        1/24/10         A\n",
       "1        2120        1/24/10         A\n",
       "2        2120        1/24/10         B\n",
       "3        2120        1/26/10         A\n",
       "4        2120        1/26/10         B"
      ]
     },
     "execution_count": 6,
     "metadata": {},
     "output_type": "execute_result"
    }
   ],
   "source": [
    "treatments.head()"
   ]
  },
  {
   "cell_type": "markdown",
   "metadata": {},
   "source": [
    "The first thing we need to do is to check whether there are some obvious sources of noise in the data such as missing values or impossible values due to corruption or typos. This can be easily done by examining the distribution of values in each column, and for clarity and conciseness of the report we omit the code and simply state the conclusion that the dataset is 'clean' and ready for manipulation."
   ]
  },
  {
   "cell_type": "code",
   "execution_count": 7,
   "metadata": {},
   "outputs": [
    {
     "data": {
      "text/plain": [
       "Patient_ID         int64\n",
       "Treatment_Date    object\n",
       "Drug_Code         object\n",
       "dtype: object"
      ]
     },
     "execution_count": 7,
     "metadata": {},
     "output_type": "execute_result"
    }
   ],
   "source": [
    "treatments.dtypes"
   ]
  },
  {
   "cell_type": "code",
   "execution_count": 8,
   "metadata": {},
   "outputs": [
    {
     "data": {
      "text/plain": [
       "Patient_ID          int64\n",
       "Diagnosis_Date     object\n",
       "Diagnosis_Code    float64\n",
       "Diagnosis          object\n",
       "dtype: object"
      ]
     },
     "execution_count": 8,
     "metadata": {},
     "output_type": "execute_result"
    }
   ],
   "source": [
    "diagnosis.dtypes"
   ]
  },
  {
   "cell_type": "markdown",
   "metadata": {},
   "source": [
    "Right away we can see that the dates are being stored as strings. It might be useful to convert them to Datetime objects so that we can perform common arithmetic on them. This will prove useful when calculating duration of treatment and time from diagnosis to treatment."
   ]
  },
  {
   "cell_type": "code",
   "execution_count": 9,
   "metadata": {
    "collapsed": true
   },
   "outputs": [],
   "source": [
    "diagnosis.Diagnosis_Date = pd.to_datetime(diagnosis.Diagnosis_Date)\n",
    "treatments.Treatment_Date = pd.to_datetime(treatments.Treatment_Date)"
   ]
  },
  {
   "cell_type": "code",
   "execution_count": 10,
   "metadata": {},
   "outputs": [
    {
     "data": {
      "text/plain": [
       "Patient_ID                 int64\n",
       "Diagnosis_Date    datetime64[ns]\n",
       "Diagnosis_Code           float64\n",
       "Diagnosis                 object\n",
       "dtype: object"
      ]
     },
     "execution_count": 10,
     "metadata": {},
     "output_type": "execute_result"
    }
   ],
   "source": [
    "diagnosis.dtypes"
   ]
  },
  {
   "cell_type": "code",
   "execution_count": 11,
   "metadata": {},
   "outputs": [
    {
     "data": {
      "text/plain": [
       "Patient_ID                 int64\n",
       "Treatment_Date    datetime64[ns]\n",
       "Drug_Code                 object\n",
       "dtype: object"
      ]
     },
     "execution_count": 11,
     "metadata": {},
     "output_type": "execute_result"
    }
   ],
   "source": [
    "treatments.dtypes"
   ]
  },
  {
   "cell_type": "code",
   "execution_count": 12,
   "metadata": {
    "collapsed": true
   },
   "outputs": [],
   "source": [
    "# if you have later versions of pandas, you can do df.infer_objects() if you're \"FEELING LUCKY!\""
   ]
  },
  {
   "cell_type": "markdown",
   "metadata": {},
   "source": [
    "We are now ready to start answering questions."
   ]
  },
  {
   "cell_type": "markdown",
   "metadata": {},
   "source": [
    "# Question 1: Cancer type breakdown\n",
    "***\"First, the clinic is curious to know for which diseases they are treating patients. How many patients does the clinic have for each cancer type?\"***\n",
    "\n",
    "To answer this question we need to focus our attention on the diagnosis table. The first step is to check whether the number of diagnoses matches the number of patients, since it could be possible for a patient to be diagnosed more than once."
   ]
  },
  {
   "cell_type": "code",
   "execution_count": 13,
   "metadata": {},
   "outputs": [
    {
     "name": "stdout",
     "output_type": "stream",
     "text": [
      "(37, ' unique patients')\n",
      "(47, ' diagnoses')\n"
     ]
    }
   ],
   "source": [
    "# Number of patients\n",
    "print(len(diagnosis.Patient_ID.unique()), ' unique patients')\n",
    "print(len(diagnosis.Patient_ID), ' diagnoses')\n",
    "\n",
    "# Curveball \n",
    "# print(len(diagnosis), ' wait, can i do this too?')"
   ]
  },
  {
   "cell_type": "markdown",
   "metadata": {},
   "source": [
    "So there are 37 unique patients but we have 47 diagnoses, meaning some patients were diagnosed more than once. Let's isolate those cases to gain a better understanding of these multiple diagnoses:"
   ]
  },
  {
   "cell_type": "code",
   "execution_count": 14,
   "metadata": {},
   "outputs": [
    {
     "data": {
      "text/plain": [
       "0     False\n",
       "1     False\n",
       "2     False\n",
       "3     False\n",
       "4     False\n",
       "5     False\n",
       "6     False\n",
       "7     False\n",
       "8     False\n",
       "9     False\n",
       "10    False\n",
       "11     True\n",
       "12     True\n",
       "13     True\n",
       "14    False\n",
       "15     True\n",
       "16     True\n",
       "17     True\n",
       "18    False\n",
       "19    False\n",
       "20    False\n",
       "21    False\n",
       "22    False\n",
       "23    False\n",
       "24    False\n",
       "25     True\n",
       "26     True\n",
       "27     True\n",
       "28     True\n",
       "29    False\n",
       "30    False\n",
       "31    False\n",
       "32    False\n",
       "33    False\n",
       "34    False\n",
       "35    False\n",
       "36    False\n",
       "37    False\n",
       "38     True\n",
       "39     True\n",
       "40     True\n",
       "41     True\n",
       "42     True\n",
       "43     True\n",
       "44     True\n",
       "45     True\n",
       "46     True\n",
       "dtype: bool"
      ]
     },
     "execution_count": 14,
     "metadata": {},
     "output_type": "execute_result"
    }
   ],
   "source": [
    "diagnosis.duplicated('Patient_ID', keep=False)"
   ]
  },
  {
   "cell_type": "code",
   "execution_count": 15,
   "metadata": {},
   "outputs": [
    {
     "data": {
      "text/html": [
       "<div>\n",
       "<style>\n",
       "    .dataframe thead tr:only-child th {\n",
       "        text-align: right;\n",
       "    }\n",
       "\n",
       "    .dataframe thead th {\n",
       "        text-align: left;\n",
       "    }\n",
       "\n",
       "    .dataframe tbody tr th {\n",
       "        vertical-align: top;\n",
       "    }\n",
       "</style>\n",
       "<table border=\"1\" class=\"dataframe\">\n",
       "  <thead>\n",
       "    <tr style=\"text-align: right;\">\n",
       "      <th></th>\n",
       "      <th>Patient_ID</th>\n",
       "      <th>Diagnosis_Date</th>\n",
       "      <th>Diagnosis_Code</th>\n",
       "      <th>Diagnosis</th>\n",
       "    </tr>\n",
       "  </thead>\n",
       "  <tbody>\n",
       "    <tr>\n",
       "      <th>11</th>\n",
       "      <td>3449</td>\n",
       "      <td>2011-09-09</td>\n",
       "      <td>153.5</td>\n",
       "      <td>Colon Cancer</td>\n",
       "    </tr>\n",
       "    <tr>\n",
       "      <th>42</th>\n",
       "      <td>3449</td>\n",
       "      <td>2011-09-09</td>\n",
       "      <td>153.4</td>\n",
       "      <td>Colon Cancer</td>\n",
       "    </tr>\n",
       "    <tr>\n",
       "      <th>13</th>\n",
       "      <td>3757</td>\n",
       "      <td>2011-10-11</td>\n",
       "      <td>174.1</td>\n",
       "      <td>Breast Cancer</td>\n",
       "    </tr>\n",
       "    <tr>\n",
       "      <th>12</th>\n",
       "      <td>3757</td>\n",
       "      <td>2011-10-17</td>\n",
       "      <td>153.4</td>\n",
       "      <td>Colon Cancer</td>\n",
       "    </tr>\n",
       "    <tr>\n",
       "      <th>43</th>\n",
       "      <td>3757</td>\n",
       "      <td>2011-10-17</td>\n",
       "      <td>153.5</td>\n",
       "      <td>Colon Cancer</td>\n",
       "    </tr>\n",
       "    <tr>\n",
       "      <th>15</th>\n",
       "      <td>4256</td>\n",
       "      <td>2011-11-07</td>\n",
       "      <td>174.5</td>\n",
       "      <td>Breast Cancer</td>\n",
       "    </tr>\n",
       "    <tr>\n",
       "      <th>44</th>\n",
       "      <td>4256</td>\n",
       "      <td>2011-11-07</td>\n",
       "      <td>174.8</td>\n",
       "      <td>Breast Cancer</td>\n",
       "    </tr>\n",
       "    <tr>\n",
       "      <th>16</th>\n",
       "      <td>4354</td>\n",
       "      <td>2012-02-04</td>\n",
       "      <td>174.8</td>\n",
       "      <td>Breast Cancer</td>\n",
       "    </tr>\n",
       "    <tr>\n",
       "      <th>45</th>\n",
       "      <td>4354</td>\n",
       "      <td>2012-02-04</td>\n",
       "      <td>174.5</td>\n",
       "      <td>Breast Cancer</td>\n",
       "    </tr>\n",
       "    <tr>\n",
       "      <th>17</th>\n",
       "      <td>4374</td>\n",
       "      <td>2012-03-20</td>\n",
       "      <td>174.5</td>\n",
       "      <td>Breast Cancer</td>\n",
       "    </tr>\n",
       "    <tr>\n",
       "      <th>46</th>\n",
       "      <td>4374</td>\n",
       "      <td>2012-03-20</td>\n",
       "      <td>174.8</td>\n",
       "      <td>Breast Cancer</td>\n",
       "    </tr>\n",
       "    <tr>\n",
       "      <th>25</th>\n",
       "      <td>6877</td>\n",
       "      <td>2012-11-26</td>\n",
       "      <td>153.4</td>\n",
       "      <td>Colon Cancer</td>\n",
       "    </tr>\n",
       "    <tr>\n",
       "      <th>38</th>\n",
       "      <td>6877</td>\n",
       "      <td>2012-12-09</td>\n",
       "      <td>174.3</td>\n",
       "      <td>Breast Cancer</td>\n",
       "    </tr>\n",
       "    <tr>\n",
       "      <th>26</th>\n",
       "      <td>6889</td>\n",
       "      <td>2012-11-14</td>\n",
       "      <td>153.7</td>\n",
       "      <td>Colon Cancer</td>\n",
       "    </tr>\n",
       "    <tr>\n",
       "      <th>39</th>\n",
       "      <td>6889</td>\n",
       "      <td>2012-11-17</td>\n",
       "      <td>174.7</td>\n",
       "      <td>Breast Cancer</td>\n",
       "    </tr>\n",
       "    <tr>\n",
       "      <th>27</th>\n",
       "      <td>6922</td>\n",
       "      <td>2012-11-15</td>\n",
       "      <td>153.6</td>\n",
       "      <td>Colon Cancer</td>\n",
       "    </tr>\n",
       "    <tr>\n",
       "      <th>40</th>\n",
       "      <td>6922</td>\n",
       "      <td>2012-11-20</td>\n",
       "      <td>174.9</td>\n",
       "      <td>Breast Cancer</td>\n",
       "    </tr>\n",
       "    <tr>\n",
       "      <th>28</th>\n",
       "      <td>7230</td>\n",
       "      <td>2013-01-02</td>\n",
       "      <td>153.8</td>\n",
       "      <td>Colon Cancer</td>\n",
       "    </tr>\n",
       "    <tr>\n",
       "      <th>41</th>\n",
       "      <td>7230</td>\n",
       "      <td>2013-01-06</td>\n",
       "      <td>174.9</td>\n",
       "      <td>Breast Cancer</td>\n",
       "    </tr>\n",
       "  </tbody>\n",
       "</table>\n",
       "</div>"
      ],
      "text/plain": [
       "    Patient_ID Diagnosis_Date  Diagnosis_Code      Diagnosis\n",
       "11        3449     2011-09-09           153.5   Colon Cancer\n",
       "42        3449     2011-09-09           153.4   Colon Cancer\n",
       "13        3757     2011-10-11           174.1  Breast Cancer\n",
       "12        3757     2011-10-17           153.4   Colon Cancer\n",
       "43        3757     2011-10-17           153.5   Colon Cancer\n",
       "15        4256     2011-11-07           174.5  Breast Cancer\n",
       "44        4256     2011-11-07           174.8  Breast Cancer\n",
       "16        4354     2012-02-04           174.8  Breast Cancer\n",
       "45        4354     2012-02-04           174.5  Breast Cancer\n",
       "17        4374     2012-03-20           174.5  Breast Cancer\n",
       "46        4374     2012-03-20           174.8  Breast Cancer\n",
       "25        6877     2012-11-26           153.4   Colon Cancer\n",
       "38        6877     2012-12-09           174.3  Breast Cancer\n",
       "26        6889     2012-11-14           153.7   Colon Cancer\n",
       "39        6889     2012-11-17           174.7  Breast Cancer\n",
       "27        6922     2012-11-15           153.6   Colon Cancer\n",
       "40        6922     2012-11-20           174.9  Breast Cancer\n",
       "28        7230     2013-01-02           153.8   Colon Cancer\n",
       "41        7230     2013-01-06           174.9  Breast Cancer"
      ]
     },
     "execution_count": 15,
     "metadata": {},
     "output_type": "execute_result"
    }
   ],
   "source": [
    "# List of patients with multiple diagnosis\n",
    "# how the duplicated method works: it returns a boolean series denoting all the duplicate rows. \n",
    "# keep=False means you keep (set to true) all the dupes, can also pick first / last.\n",
    "# you can then select exclusively those records out of the dataframe, and sort them.\n",
    "# (under the hood you are doing a dot product between that boolean series & the dataframe) \n",
    "\n",
    "diagnosis[diagnosis.duplicated('Patient_ID', keep=False)].sort_values(['Patient_ID', 'Diagnosis_Date'])"
   ]
  },
  {
   "cell_type": "markdown",
   "metadata": {},
   "source": [
    "**So there are two possible sources of multiple diagnoses:**\n",
    "* A patient appears twice in the diagnosis table because their particular diagnosis involves multiple codes. An example would be 3449, who is diagnosed with Colon Cancer, specifically a Malignant neoplasm of colon, more precisely cecum (code 153.4) and appendix (code 153.5).\n",
    "* A patient appears twice in the diagnosis table because he or she was diagnosed with both colon and breast cancer. An example would be patient 7230 who was diagnosed with breast cancer 4 days after being diagnosed with colon cancer.\n",
    "\n",
    "Back to the question. It would be interesting to see the distribution of patients both at a macro level (colon vs. breast) as well as at a micro level (specific diagnosis code) for each macro type.\n",
    "\n",
    "In order to do this some data manipulations need to be done. First we combine all diagnoses and diagnosis codes into one field per patient. Then we create an indicator variable for each of the two cancer types, which will be useful for segmenting later. We are now ready to visualize the distribution at the macro level."
   ]
  },
  {
   "cell_type": "code",
   "execution_count": 18,
   "metadata": {},
   "outputs": [
    {
     "data": {
      "image/png": "[encoded data removed]",
      "text/plain": [
       "<matplotlib.figure.Figure at 0x10c6cb490>"
      ]
     },
     "metadata": {},
     "output_type": "display_data"
    }
   ],
   "source": [
    "# Make a copy of the diagnosis dataframe\n",
    "diagnosis_copy = diagnosis.copy()\n",
    "\n",
    "# Convert diagnosis codes to string, and join them by commas for the same patient\n",
    "# We don't have to worry about the 'Diagnosis' field since it's already a string\n",
    "diagnosis_copy.Diagnosis_Code = diagnosis.Diagnosis_Code.apply(str)\n",
    "unique_codes = diagnosis_copy.groupby(diagnosis_copy.Patient_ID) \\\n",
    "                   .agg(lambda x: ','.join(x.values))\n",
    "\n",
    "# Remove duplicates from 'Diagnosis' colon ('colon, breast, colon' --> 'colon, breast')\n",
    "unique_codes.Diagnosis = unique_codes.Diagnosis.str.split(',').\\\n",
    "                                  apply(lambda x: list(set(x))).\\\n",
    "                                  apply(lambda x: ','.join(x))\n",
    "\n",
    "# Add colon and breast indicator variables\n",
    "# you can think of unique_codes['Diagnosis'] as being the selectin of a column of a dataframe. \n",
    "# The output here is a pandas series, which can be thought of as an indexed vector \n",
    "# you can think of the .str method as a helper function that allows you to perform the .contains() method \n",
    "# on every element of the vector\n",
    "unique_codes['breast'] = unique_codes['Diagnosis'].str.contains('Breast')\n",
    "unique_codes['colon'] = unique_codes['Diagnosis'].str.contains('Colon')\n",
    "\n",
    "# Plot // countplot show the counts of observations in each categorical bin using bars\n",
    "sns.countplot(y=unique_codes.Diagnosis)\n",
    "_ = plt.title('Number of patients by cancer type')\n",
    "_ = plt.xlabel('Number of patients')\n",
    "_ = plt.ylabel('Cancer type')"
   ]
  },
  {
   "cell_type": "markdown",
   "metadata": {},
   "source": [
    "# Question 2: How long after diagnosis do patients start tratment?\n",
    "\n",
    "**\"The clinic wants to know how long it takes for patients to start therapy after being diagnosed, which they consider to be helpful in understanding the quality of care for the patient. How long after being diagnosed do patients start treatment?\"**\n",
    "\n",
    "As with the last question, there are multiple ways we can interpret this question in terms of the different possible combinations and aggregations. We take a general approach, and ignore cancer types and drug types. For patients with multiple diagnoses, the first diagnosis date, and the first treatment date will be considered.\n",
    "\n",
    "Turning to the `treatments` dataframe, we will sort by patient ID and treatment date, group by patient ID, and keep only the first date."
   ]
  },
  {
   "cell_type": "code",
   "execution_count": 19,
   "metadata": {
    "collapsed": true
   },
   "outputs": [],
   "source": [
    "# Sort treatments by patient ID and Treatment Date\n",
    "treatments_sorted = treatments.sort_values(['Patient_ID', 'Treatment_Date'])\n",
    "\n",
    "# Group by Patient ID, select first date, and reset index\n",
    "first_treatment = treatments_sorted.groupby('Patient_ID').first().reset_index()"
   ]
  },
  {
   "cell_type": "markdown",
   "metadata": {},
   "source": [
    "**Why reset the index?**\n",
    "\n",
    "* The index contains data that you want to treat as a column.  {For joining, or for vectorized operations, (Like contains, which we just used above!)}\n",
    "* The index got messy due to sorting, selecting, or joining.  If you wanted to reset the index to just be increasing, ordered numbers then you would reset and drop the existing one"
   ]
  },
  {
   "cell_type": "code",
   "execution_count": 20,
   "metadata": {},
   "outputs": [
    {
     "data": {
      "text/html": [
       "<div>\n",
       "<style>\n",
       "    .dataframe thead tr:only-child th {\n",
       "        text-align: right;\n",
       "    }\n",
       "\n",
       "    .dataframe thead th {\n",
       "        text-align: left;\n",
       "    }\n",
       "\n",
       "    .dataframe tbody tr th {\n",
       "        vertical-align: top;\n",
       "    }\n",
       "</style>\n",
       "<table border=\"1\" class=\"dataframe\">\n",
       "  <thead>\n",
       "    <tr style=\"text-align: right;\">\n",
       "      <th></th>\n",
       "      <th>Patient_ID</th>\n",
       "      <th>Treatment_Date</th>\n",
       "      <th>Drug_Code</th>\n",
       "    </tr>\n",
       "  </thead>\n",
       "  <tbody>\n",
       "    <tr>\n",
       "      <th>0</th>\n",
       "      <td>2038</td>\n",
       "      <td>2010-01-24</td>\n",
       "      <td>A</td>\n",
       "    </tr>\n",
       "    <tr>\n",
       "      <th>1</th>\n",
       "      <td>2120</td>\n",
       "      <td>2010-01-24</td>\n",
       "      <td>A</td>\n",
       "    </tr>\n",
       "    <tr>\n",
       "      <th>2</th>\n",
       "      <td>2175</td>\n",
       "      <td>2010-02-21</td>\n",
       "      <td>A</td>\n",
       "    </tr>\n",
       "    <tr>\n",
       "      <th>3</th>\n",
       "      <td>2407</td>\n",
       "      <td>2010-06-19</td>\n",
       "      <td>A</td>\n",
       "    </tr>\n",
       "    <tr>\n",
       "      <th>4</th>\n",
       "      <td>2425</td>\n",
       "      <td>2010-12-19</td>\n",
       "      <td>A</td>\n",
       "    </tr>\n",
       "  </tbody>\n",
       "</table>\n",
       "</div>"
      ],
      "text/plain": [
       "   Patient_ID Treatment_Date Drug_Code\n",
       "0        2038     2010-01-24         A\n",
       "1        2120     2010-01-24         A\n",
       "2        2175     2010-02-21         A\n",
       "3        2407     2010-06-19         A\n",
       "4        2425     2010-12-19         A"
      ]
     },
     "execution_count": 20,
     "metadata": {},
     "output_type": "execute_result"
    }
   ],
   "source": [
    "# View dataframe\n",
    "first_treatment.head()"
   ]
  },
  {
   "cell_type": "markdown",
   "metadata": {},
   "source": [
    "Similarly, for the diagnoses, we will keep only the first diagnosis date per patient."
   ]
  },
  {
   "cell_type": "code",
   "execution_count": 21,
   "metadata": {},
   "outputs": [
    {
     "data": {
      "text/html": [
       "<div>\n",
       "<style>\n",
       "    .dataframe thead tr:only-child th {\n",
       "        text-align: right;\n",
       "    }\n",
       "\n",
       "    .dataframe thead th {\n",
       "        text-align: left;\n",
       "    }\n",
       "\n",
       "    .dataframe tbody tr th {\n",
       "        vertical-align: top;\n",
       "    }\n",
       "</style>\n",
       "<table border=\"1\" class=\"dataframe\">\n",
       "  <thead>\n",
       "    <tr style=\"text-align: right;\">\n",
       "      <th></th>\n",
       "      <th>Patient_ID</th>\n",
       "      <th>Diagnosis_Date</th>\n",
       "      <th>Diagnosis_Code</th>\n",
       "      <th>Diagnosis</th>\n",
       "    </tr>\n",
       "  </thead>\n",
       "  <tbody>\n",
       "    <tr>\n",
       "      <th>0</th>\n",
       "      <td>2038</td>\n",
       "      <td>2010-01-21</td>\n",
       "      <td>174.9</td>\n",
       "      <td>Breast Cancer</td>\n",
       "    </tr>\n",
       "    <tr>\n",
       "      <th>1</th>\n",
       "      <td>2120</td>\n",
       "      <td>2010-01-09</td>\n",
       "      <td>174.1</td>\n",
       "      <td>Breast Cancer</td>\n",
       "    </tr>\n",
       "    <tr>\n",
       "      <th>2</th>\n",
       "      <td>2175</td>\n",
       "      <td>2010-02-17</td>\n",
       "      <td>174.7</td>\n",
       "      <td>Breast Cancer</td>\n",
       "    </tr>\n",
       "    <tr>\n",
       "      <th>3</th>\n",
       "      <td>2407</td>\n",
       "      <td>2010-06-13</td>\n",
       "      <td>174.9</td>\n",
       "      <td>Breast Cancer</td>\n",
       "    </tr>\n",
       "    <tr>\n",
       "      <th>4</th>\n",
       "      <td>2425</td>\n",
       "      <td>2010-12-15</td>\n",
       "      <td>174.9</td>\n",
       "      <td>Breast Cancer</td>\n",
       "    </tr>\n",
       "  </tbody>\n",
       "</table>\n",
       "</div>"
      ],
      "text/plain": [
       "   Patient_ID Diagnosis_Date  Diagnosis_Code      Diagnosis\n",
       "0        2038     2010-01-21           174.9  Breast Cancer\n",
       "1        2120     2010-01-09           174.1  Breast Cancer\n",
       "2        2175     2010-02-17           174.7  Breast Cancer\n",
       "3        2407     2010-06-13           174.9  Breast Cancer\n",
       "4        2425     2010-12-15           174.9  Breast Cancer"
      ]
     },
     "execution_count": 21,
     "metadata": {},
     "output_type": "execute_result"
    }
   ],
   "source": [
    "# Sort diagnosis by patient ID and Diagnosis Date\n",
    "diagnosis_sorted = diagnosis.sort_values(['Patient_ID', 'Diagnosis_Date'])\n",
    "\n",
    "# Group by Patient ID, select first date, and reset index\n",
    "first_diagnosis = diagnosis_sorted.groupby('Patient_ID').first().reset_index()\n",
    "\n",
    "# View dataframe\n",
    "first_diagnosis.head()"
   ]
  },
  {
   "cell_type": "markdown",
   "metadata": {},
   "source": [
    "We can now merge the two dataframes and look at the difference between diagnosis date and treatment date. We will visualize the distribution with an overlay of boxplot and swarm plot, as well as describe some basic statistics of the time difference."
   ]
  },
  {
   "cell_type": "code",
   "execution_count": 24,
   "metadata": {
    "scrolled": true
   },
   "outputs": [
    {
     "name": "stdout",
     "output_type": "stream",
     "text": [
      "count                        37\n",
      "mean     5 days 11:01:37.297297\n",
      "std      2 days 05:32:40.655400\n",
      "min             3 days 00:00:00\n",
      "25%             4 days 00:00:00\n",
      "50%             5 days 00:00:00\n",
      "75%             6 days 00:00:00\n",
      "max            15 days 00:00:00\n",
      "Name: time_lapse, dtype: object\n"
     ]
    },
    {
     "data": {
      "image/png": "[encoded data removed]",
      "text/plain": [
       "<matplotlib.figure.Figure at 0x10c6cb610>"
      ]
     },
     "metadata": {},
     "output_type": "display_data"
    }
   ],
   "source": [
    "# Merge dataframes\n",
    "merged_dfs = first_treatment.merge(first_diagnosis, on='Patient_ID')\n",
    "\n",
    "# Calculate the time difference between diagnosis date and treatment date\n",
    "merged_dfs['time_lapse'] = merged_dfs['Treatment_Date'].subtract(merged_dfs['Diagnosis_Date'])\n",
    "\n",
    "# Plot\n",
    "ax = sns.boxplot(y=merged_dfs['time_lapse'].dt.days)\n",
    "ax = sns.swarmplot(y = merged_dfs['time_lapse'].dt.days, color='firebrick')\n",
    "plt.ylabel('# of days')\n",
    "plt.title('Number of days from diagnosis to treatment')\n",
    "\n",
    "# Describe\n",
    "print(merged_dfs['time_lapse'].describe())"
   ]
  },
  {
   "cell_type": "markdown",
   "metadata": {},
   "source": [
    "**One of the parameters taken by boxplot**\n",
    "\n",
    "* **whis** : float, optional\n",
    "* Proportion of the IQR past the low and high quartiles to extend the plot whiskers. \n",
    "* Points outside this range will be identified as outliers."
   ]
  },
  {
   "cell_type": "markdown",
   "metadata": {},
   "source": [
    "**why are boxplots useful?**\n",
    "\n",
    "A box plot (or box-and-whisker plot) shows the distribution of quantitative data in a way that facilitates comparisons between variables or across levels of a categorical variable. The box shows the quartiles of the dataset while the whiskers extend to show the rest of the distribution, except for points that are determined to be “outliers” using a method that is a function of the inter-quartile range."
   ]
  },
  {
   "cell_type": "markdown",
   "metadata": {},
   "source": [
    "We see that, on average, it takes patients five and a half days to start treatment after being diagnosed. There are two outliers, patients for whom treatment started 11 and 15 days after diagnosis. The median is actually just 5 days.\n"
   ]
  },
  {
   "cell_type": "markdown",
   "metadata": {},
   "source": [
    "# Question 3: Duration of treatments\n",
    "**\"How do these drugs compare in terms of duration of therapy?\"**\n",
    "\n",
    "There is an easy first stab at this, where you just take the first and last time a drug was administered for a patient and plot that distribution into our favorite: box plots!"
   ]
  },
  {
   "cell_type": "code",
   "execution_count": 25,
   "metadata": {},
   "outputs": [
    {
     "data": {
      "text/html": [
       "<div>\n",
       "<style>\n",
       "    .dataframe thead tr:only-child th {\n",
       "        text-align: right;\n",
       "    }\n",
       "\n",
       "    .dataframe thead th {\n",
       "        text-align: left;\n",
       "    }\n",
       "\n",
       "    .dataframe tbody tr th {\n",
       "        vertical-align: top;\n",
       "    }\n",
       "</style>\n",
       "<table border=\"1\" class=\"dataframe\">\n",
       "  <thead>\n",
       "    <tr style=\"text-align: right;\">\n",
       "      <th></th>\n",
       "      <th></th>\n",
       "      <th>Treatment_Date_start</th>\n",
       "      <th>Treatment_Date_end</th>\n",
       "      <th>time_elapsed</th>\n",
       "    </tr>\n",
       "    <tr>\n",
       "      <th>Patient_ID</th>\n",
       "      <th>Drug_Code</th>\n",
       "      <th></th>\n",
       "      <th></th>\n",
       "      <th></th>\n",
       "    </tr>\n",
       "  </thead>\n",
       "  <tbody>\n",
       "    <tr>\n",
       "      <th rowspan=\"2\" valign=\"top\">2038</th>\n",
       "      <th>A</th>\n",
       "      <td>2010-01-24</td>\n",
       "      <td>2010-02-20</td>\n",
       "      <td>27 days</td>\n",
       "    </tr>\n",
       "    <tr>\n",
       "      <th>B</th>\n",
       "      <td>2017-01-24</td>\n",
       "      <td>2017-02-20</td>\n",
       "      <td>27 days</td>\n",
       "    </tr>\n",
       "    <tr>\n",
       "      <th rowspan=\"2\" valign=\"top\">2120</th>\n",
       "      <th>A</th>\n",
       "      <td>2010-01-24</td>\n",
       "      <td>2010-03-02</td>\n",
       "      <td>37 days</td>\n",
       "    </tr>\n",
       "    <tr>\n",
       "      <th>B</th>\n",
       "      <td>2010-01-24</td>\n",
       "      <td>2010-03-02</td>\n",
       "      <td>37 days</td>\n",
       "    </tr>\n",
       "    <tr>\n",
       "      <th>2175</th>\n",
       "      <th>A</th>\n",
       "      <td>2010-02-21</td>\n",
       "      <td>2010-04-03</td>\n",
       "      <td>41 days</td>\n",
       "    </tr>\n",
       "  </tbody>\n",
       "</table>\n",
       "</div>"
      ],
      "text/plain": [
       "                     Treatment_Date_start Treatment_Date_end time_elapsed\n",
       "Patient_ID Drug_Code                                                     \n",
       "2038       A                   2010-01-24         2010-02-20      27 days\n",
       "           B                   2017-01-24         2017-02-20      27 days\n",
       "2120       A                   2010-01-24         2010-03-02      37 days\n",
       "           B                   2010-01-24         2010-03-02      37 days\n",
       "2175       A                   2010-02-21         2010-04-03      41 days"
      ]
     },
     "execution_count": 25,
     "metadata": {},
     "output_type": "execute_result"
    }
   ],
   "source": [
    "# Select first and last treatments by patient and drug code\n",
    "first_treatments = treatments_sorted.groupby(['Patient_ID', 'Drug_Code']).first()\n",
    "\n",
    "last_treatments = treatments_sorted.groupby(['Patient_ID', 'Drug_Code']).last()\n",
    "\n",
    "first_last = first_treatments.join(last_treatments, lsuffix='_start', rsuffix='_end')\n",
    "\n",
    "# Calculate time difference\n",
    "first_last['time_elapsed'] = first_last.Treatment_Date_end.subtract(first_last.Treatment_Date_start)\n",
    "\n",
    "# View dataframe\n",
    "first_last.head()"
   ]
  },
  {
   "cell_type": "code",
   "execution_count": 30,
   "metadata": {},
   "outputs": [
    {
     "ename": "ValueError",
     "evalue": "cannot insert level_0, already exists",
     "output_type": "error",
     "traceback": [
      "\u001b[0;31m---------------------------------------------------------------------------\u001b[0m",
      "\u001b[0;31mValueError\u001b[0m                                Traceback (most recent call last)",
      "\u001b[0;32m<ipython-input-30-898ed3435f15>\u001b[0m in \u001b[0;36m<module>\u001b[0;34m()\u001b[0m\n\u001b[1;32m      1\u001b[0m \u001b[0;31m# Reset index for cleaner code and speedier dataframe\u001b[0m\u001b[0;34m\u001b[0m\u001b[0;34m\u001b[0m\u001b[0m\n\u001b[0;32m----> 2\u001b[0;31m \u001b[0mfirst_last\u001b[0m\u001b[0;34m.\u001b[0m\u001b[0mreset_index\u001b[0m\u001b[0;34m(\u001b[0m\u001b[0minplace\u001b[0m\u001b[0;34m=\u001b[0m\u001b[0mTrue\u001b[0m\u001b[0;34m)\u001b[0m\u001b[0;34m\u001b[0m\u001b[0m\n\u001b[0m\u001b[1;32m      3\u001b[0m \u001b[0;34m\u001b[0m\u001b[0m\n\u001b[1;32m      4\u001b[0m \u001b[0;31m# when you make a subplot you are making a grid and placing a plot within a spot on that grid\u001b[0m\u001b[0;34m\u001b[0m\u001b[0;34m\u001b[0m\u001b[0m\n\u001b[1;32m      5\u001b[0m \u001b[0;31m# here you are applying the figure method to a plot object which can be thought of as a canvas.\u001b[0m\u001b[0;34m\u001b[0m\u001b[0;34m\u001b[0m\u001b[0m\n",
      "\u001b[0;32m/usr/local/lib/python2.7/site-packages/pandas/core/frame.pyc\u001b[0m in \u001b[0;36mreset_index\u001b[0;34m(self, level, drop, inplace, col_level, col_fill)\u001b[0m\n\u001b[1;32m   2956\u001b[0m                 \u001b[0;31m# to ndarray and maybe infer different dtype\u001b[0m\u001b[0;34m\u001b[0m\u001b[0;34m\u001b[0m\u001b[0m\n\u001b[1;32m   2957\u001b[0m                 \u001b[0mlevel_values\u001b[0m \u001b[0;34m=\u001b[0m \u001b[0m_maybe_casted_values\u001b[0m\u001b[0;34m(\u001b[0m\u001b[0mlev\u001b[0m\u001b[0;34m,\u001b[0m \u001b[0mlab\u001b[0m\u001b[0;34m)\u001b[0m\u001b[0;34m\u001b[0m\u001b[0m\n\u001b[0;32m-> 2958\u001b[0;31m                 \u001b[0mnew_obj\u001b[0m\u001b[0;34m.\u001b[0m\u001b[0minsert\u001b[0m\u001b[0;34m(\u001b[0m\u001b[0;36m0\u001b[0m\u001b[0;34m,\u001b[0m \u001b[0mname\u001b[0m\u001b[0;34m,\u001b[0m \u001b[0mlevel_values\u001b[0m\u001b[0;34m)\u001b[0m\u001b[0;34m\u001b[0m\u001b[0m\n\u001b[0m\u001b[1;32m   2959\u001b[0m \u001b[0;34m\u001b[0m\u001b[0m\n\u001b[1;32m   2960\u001b[0m         \u001b[0mnew_obj\u001b[0m\u001b[0;34m.\u001b[0m\u001b[0mindex\u001b[0m \u001b[0;34m=\u001b[0m \u001b[0mnew_index\u001b[0m\u001b[0;34m\u001b[0m\u001b[0m\n",
      "\u001b[0;32m/usr/local/lib/python2.7/site-packages/pandas/core/frame.pyc\u001b[0m in \u001b[0;36minsert\u001b[0;34m(self, loc, column, value, allow_duplicates)\u001b[0m\n\u001b[1;32m   2421\u001b[0m         \u001b[0mvalue\u001b[0m \u001b[0;34m=\u001b[0m \u001b[0mself\u001b[0m\u001b[0;34m.\u001b[0m\u001b[0m_sanitize_column\u001b[0m\u001b[0;34m(\u001b[0m\u001b[0mcolumn\u001b[0m\u001b[0;34m,\u001b[0m \u001b[0mvalue\u001b[0m\u001b[0;34m,\u001b[0m \u001b[0mbroadcast\u001b[0m\u001b[0;34m=\u001b[0m\u001b[0mFalse\u001b[0m\u001b[0;34m)\u001b[0m\u001b[0;34m\u001b[0m\u001b[0m\n\u001b[1;32m   2422\u001b[0m         self._data.insert(loc, column, value,\n\u001b[0;32m-> 2423\u001b[0;31m                           allow_duplicates=allow_duplicates)\n\u001b[0m\u001b[1;32m   2424\u001b[0m \u001b[0;34m\u001b[0m\u001b[0m\n\u001b[1;32m   2425\u001b[0m     \u001b[0;32mdef\u001b[0m \u001b[0massign\u001b[0m\u001b[0;34m(\u001b[0m\u001b[0mself\u001b[0m\u001b[0;34m,\u001b[0m \u001b[0;34m**\u001b[0m\u001b[0mkwargs\u001b[0m\u001b[0;34m)\u001b[0m\u001b[0;34m:\u001b[0m\u001b[0;34m\u001b[0m\u001b[0m\n",
      "\u001b[0;32m/usr/local/lib/python2.7/site-packages/pandas/core/internals.pyc\u001b[0m in \u001b[0;36minsert\u001b[0;34m(self, loc, item, value, allow_duplicates)\u001b[0m\n\u001b[1;32m   3808\u001b[0m         \u001b[0;32mif\u001b[0m \u001b[0;32mnot\u001b[0m \u001b[0mallow_duplicates\u001b[0m \u001b[0;32mand\u001b[0m \u001b[0mitem\u001b[0m \u001b[0;32min\u001b[0m \u001b[0mself\u001b[0m\u001b[0;34m.\u001b[0m\u001b[0mitems\u001b[0m\u001b[0;34m:\u001b[0m\u001b[0;34m\u001b[0m\u001b[0m\n\u001b[1;32m   3809\u001b[0m             \u001b[0;31m# Should this be a different kind of error??\u001b[0m\u001b[0;34m\u001b[0m\u001b[0;34m\u001b[0m\u001b[0m\n\u001b[0;32m-> 3810\u001b[0;31m             \u001b[0;32mraise\u001b[0m \u001b[0mValueError\u001b[0m\u001b[0;34m(\u001b[0m\u001b[0;34m'cannot insert {}, already exists'\u001b[0m\u001b[0;34m.\u001b[0m\u001b[0mformat\u001b[0m\u001b[0;34m(\u001b[0m\u001b[0mitem\u001b[0m\u001b[0;34m)\u001b[0m\u001b[0;34m)\u001b[0m\u001b[0;34m\u001b[0m\u001b[0m\n\u001b[0m\u001b[1;32m   3811\u001b[0m \u001b[0;34m\u001b[0m\u001b[0m\n\u001b[1;32m   3812\u001b[0m         \u001b[0;32mif\u001b[0m \u001b[0;32mnot\u001b[0m \u001b[0misinstance\u001b[0m\u001b[0;34m(\u001b[0m\u001b[0mloc\u001b[0m\u001b[0;34m,\u001b[0m \u001b[0mint\u001b[0m\u001b[0;34m)\u001b[0m\u001b[0;34m:\u001b[0m\u001b[0;34m\u001b[0m\u001b[0m\n",
      "\u001b[0;31mValueError\u001b[0m: cannot insert level_0, already exists"
     ]
    }
   ],
   "source": [
    "# Reset index for cleaner code and speedier dataframe\n",
    "first_last.reset_index(inplace=True)\n",
    "\n",
    "# when you make a subplot you are making a grid and placing a plot within a spot on that grid\n",
    "# here you are applying the figure method to a plot object which can be thought of as a canvas. \n",
    "# you are setting the size of your canvas, which you can adjust as you see fit\n",
    "# within the subplot argument, the first two arguments split up your canvas into a matrix. so this canvas\n",
    "# is a 1 by 2 matrix. the third argument allows you to count the elements within a matrix so that you can place\n",
    "# your plot into that element. You count elements just like a book\n",
    "plt.figure(figsize=(13,4))\n",
    "plt.subplot(1,2,1)\n",
    "sns.boxplot(x=first_last.Drug_Code, y=first_last.time_elapsed.dt.days, showfliers=True)\n",
    "plt.title('Duration of treatment by drug, with outliers')\n",
    "plt.xlabel('Drug(s)')\n",
    "plt.ylabel('Duration of treatment')\n",
    "\n",
    "plt.subplot(1,2,2)\n",
    "sns.boxplot(x=first_last.Drug_Code, y=first_last.time_elapsed.dt.days, showfliers=False)\n",
    "plt.title('Duration of treatment by drug, without outliers')\n",
    "plt.xlabel('Drug(s)')\n",
    "_ = plt.ylabel('Duration of treatment')"
   ]
  },
  {
   "cell_type": "markdown",
   "metadata": {},
   "source": [
    "In order to answer this question more truthfully, though, we have to take into consideration combination therapies. In other words, we must consider the combination of A and B as a separate treatment, to disentangle it from using either A or B alone, which may result in different treatment durations. For that, we will go through the same steps as before to unify all common treatments into one line, this time for all patients. Then grouping by patient ID and Drug Code, and selecting the first and last day will allow us to easily calculate the duration of treatment, which we visualize using boxplots."
   ]
  },
  {
   "cell_type": "code",
   "execution_count": null,
   "metadata": {
    "collapsed": true
   },
   "outputs": [],
   "source": [
    "# Unify simultaneous treatments into a single line\n",
    "all_treatment_combined = treatments_sorted.groupby(['Patient_ID', 'Treatment_Date'])\\\n",
    "                             .agg(lambda x: ','.join(x)).reset_index()\n"
   ]
  },
  {
   "cell_type": "code",
   "execution_count": null,
   "metadata": {
    "collapsed": true
   },
   "outputs": [],
   "source": [
    "all_treatment_combined.head(50)"
   ]
  },
  {
   "cell_type": "code",
   "execution_count": null,
   "metadata": {
    "collapsed": true
   },
   "outputs": [],
   "source": [
    "# Select first and last treatments by patient and drug code\n",
    "first_treatments = all_treatment_combined.groupby(['Patient_ID', 'Drug_Code']).first()\n",
    "\n",
    "last_treatments = all_treatment_combined.groupby(['Patient_ID', 'Drug_Code']).last()\n",
    "\n",
    "# Merge dataframes\n",
    "first_last = first_treatments.join(last_treatments, lsuffix='_start', rsuffix='_end')\n",
    "\n",
    "# Calculate time difference\n",
    "first_last['time_elapsed'] = first_last.Treatment_Date_end.subtract(first_last.Treatment_Date_start)\n",
    "\n",
    "# View dataframe\n",
    "first_last.head()"
   ]
  },
  {
   "cell_type": "code",
   "execution_count": null,
   "metadata": {
    "collapsed": true
   },
   "outputs": [],
   "source": [
    "# Reset index for cleaner code and speedier dataframe\n",
    "first_last.reset_index(inplace=True)\n",
    "\n",
    "plt.figure(figsize=(12,4))\n",
    "plt.subplot(1,2,1)\n",
    "sns.boxplot(x=first_last.Drug_Code, y=first_last.time_elapsed.dt.days, showfliers=True)\n",
    "plt.title('Duration of treatment by drug, with outliers')\n",
    "plt.xlabel('Drug(s)')\n",
    "plt.ylabel('Duration of treatment')\n",
    "\n",
    "plt.subplot(1,2,2)\n",
    "sns.boxplot(x=first_last.Drug_Code, y=first_last.time_elapsed.dt.days, showfliers=False)\n",
    "plt.title('Duration of treatment by drug, without outliers')\n",
    "plt.xlabel('Drug(s)')\n",
    "_ = plt.ylabel('Duration of treatment')"
   ]
  },
  {
   "cell_type": "markdown",
   "metadata": {},
   "source": [
    "We chose to visualize both with and without outliers, for added clarity. A detailed description of each of the drug combinations can be found below, but we will outline the results here. The combination of rugs A and B has the shortest average duration, with an average of 54 and a half days. Only using drug B can bring down treatment time to a minimum of 27 days, but as we see from the graph, the standard deviation is very large because there are only 4 patients treated exclusively with B. The median duration of the immunotherapy is 86 days. We do not quote the mean duration here because an outlier, with a treatment duration of more than 500 days, brings the average up."
   ]
  },
  {
   "cell_type": "code",
   "execution_count": null,
   "metadata": {
    "collapsed": true
   },
   "outputs": [],
   "source": []
  }
 ],
 "metadata": {
  "kernelspec": {
   "display_name": "Python 2",
   "language": "python",
   "name": "python2"
  },
  "language_info": {
   "codemirror_mode": {
    "name": "ipython",
    "version": 2
   },
   "file_extension": ".py",
   "mimetype": "text/x-python",
   "name": "python",
   "nbconvert_exporter": "python",
   "pygments_lexer": "ipython2",
   "version": "2.7.3"
  }
 },
 "nbformat": 4,
 "nbformat_minor": 2
}
